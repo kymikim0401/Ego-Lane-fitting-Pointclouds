{
 "cells": [
  {
   "cell_type": "code",
   "execution_count": 2,
   "id": "09a4bd61",
   "metadata": {},
   "outputs": [],
   "source": [
    "import os\n",
    "import numpy as np\n",
    "import itertools\n",
    "import time\n",
    "from scipy.spatial import distance\n",
    "from scipy.optimize import fsolve\n",
    "from sklearn.linear_model import RANSACRegressor\n",
    "from sklearn.metrics import mean_squared_error\n",
    "import matplotlib.pyplot as plt"
   ]
  },
  {
   "cell_type": "code",
   "execution_count": null,
   "id": "b9bd3de8",
   "metadata": {},
   "outputs": [],
   "source": [
    "class PolynomialRegression(object):\n",
    "    def __init__(self, degree=3, coeffs=None):\n",
    "        self.degree = degree\n",
    "        self.coeffs = coeffs\n",
    "\n",
    "    def fit(self, X, y):\n",
    "        self.coeffs = np.polyfit(X.ravel(), y, self.degree)\n",
    "\n",
    "    def get_params(self, deep=False):\n",
    "        return {'coeffs': self.coeffs}\n",
    "\n",
    "    def set_params(self, coeffs=None, random_state=None):\n",
    "        self.coeffs = coeffs\n",
    "\n",
    "    def predict(self, X):\n",
    "        poly_eqn = np.poly1d(self.coeffs)\n",
    "        y_hat = poly_eqn(X.ravel())\n",
    "        return y_hat\n",
    "\n",
    "    def score(self, X, y):\n",
    "        return mean_squared_error(y, self.predict(X))"
   ]
  },
  {
   "cell_type": "code",
   "execution_count": null,
   "id": "a8005859",
   "metadata": {},
   "outputs": [],
   "source": [
    "grid_dict = {}\n",
    "for y in (-1,1):\n",
    "    grid_list = [] \n",
    "\n",
    "    for x in range(5, -5, -1):\n",
    "        if y == -1:\n",
    "            grid_x_up_bound = x*8\n",
    "            grid_x_low_bound = (x-1)*8\n",
    "            grid_y_up_bound = (y+1)*3.9\n",
    "            grid_y_low_bound = y*3.9\n",
    "            grid = [grid_x_up_bound, grid_x_low_bound, grid_y_up_bound, grid_y_low_bound]\n",
    "            coord = (y, x)\n",
    "            grid_dict[coord] = grid\n",
    "        else:\n",
    "            grid_x_up_bound = x*8\n",
    "            grid_x_low_bound = (x-1)*8\n",
    "            grid_y_up_bound = y*3.9\n",
    "            grid_y_low_bound = (y-1)*3.9\n",
    "            grid = [grid_x_up_bound, grid_x_low_bound, grid_y_up_bound, grid_y_low_bound]\n",
    "            coord = (y, x)\n",
    "            grid_dict[coord] = grid\n",
    "        "
   ]
  },
  {
   "cell_type": "code",
   "execution_count": null,
   "id": "95f971a0",
   "metadata": {
    "scrolled": true
   },
   "outputs": [],
   "source": [
    "data_folder = 'C:/Users/User/Desktop/Lidar_data/pointclouds_filtered'\n",
    "lidar_files = sorted(os.listdir(data_folder))\n",
    "lidar_fpath = [os.path.join(data_folder, f) for f in lidar_files]\n",
    "lidar_bin = lidar_fpath[0]\n",
    "lidar_data = np.fromfile(lidar_bin, dtype=np.float32).reshape(-1, 5)\n",
    "print(lidar_bin)"
   ]
  },
  {
   "cell_type": "markdown",
   "id": "430cbe51",
   "metadata": {},
   "source": [
    "ㅡㅡㅡㅡㅡㅡㅡㅡㅡㅡㅡㅡㅡㅡㅡㅡㅡㅡㅡㅡㅡㅡㅡㅡㅡㅡㅡㅡㅡ"
   ]
  },
  {
   "cell_type": "code",
   "execution_count": null,
   "id": "c2b55b02",
   "metadata": {},
   "outputs": [],
   "source": [
    "lidar_data[:, 2] = 0\n",
    "data_in_grid = {}\n",
    "for grid_cell_index, grid_cell_coord in enumerate(grid_dict):\n",
    "    x_upper_bound, x_lower_bound, y_upper_bound, y_lower_bound = grid_dict[grid_cell_coord]\n",
    "    inGrid_lidar_data = np.delete(lidar_data, np.where(\n",
    "    (lidar_data[:, 0] > x_upper_bound) |\n",
    "    (lidar_data[:, 0] <= x_lower_bound) |\n",
    "    (lidar_data[:, 1] > y_upper_bound) |\n",
    "    (lidar_data[:, 1] <= y_lower_bound))[0], axis = 0)\n",
    "    \n",
    "    data_in_grid[grid_cell_coord] = inGrid_lidar_data"
   ]
  },
  {
   "cell_type": "markdown",
   "id": "c4346cc4",
   "metadata": {},
   "source": [
    "ㅡㅡㅡㅡㅡㅡㅡㅡㅡㅡㅡㅡㅡㅡㅡㅡㅡㅡㅡㅡㅡㅡㅡㅡㅡㅡㅡㅡㅡ"
   ]
  },
  {
   "cell_type": "code",
   "execution_count": null,
   "id": "efea08da",
   "metadata": {
    "scrolled": true
   },
   "outputs": [],
   "source": [
    "min_sample_threshold = 5\n",
    "data_repres_up = np.empty((0, 5)) \n",
    "data_repres_down = np.empty((0, 5)) \n",
    "iteration = 0\n",
    "max_iter = 1000\n",
    "prev_error = 1000\n",
    "\n",
    "start = time.time()\n",
    "while iteration <= max_iter:\n",
    "    for y in (-1, 1):\n",
    "        for x in range(5, -5, -1):\n",
    "            if y == -1:\n",
    "                if len(data_in_grid[y, x]) >= min_sample_threshold:\n",
    "                    idx = np.random.randint(len(data_in_grid[y, x]), size = 3)\n",
    "                    data_repres_up = np.append(data_repres_up, data_in_grid[y, x][idx, :], axis = 0)\n",
    "                elif len(data_in_grid[y, x]) == 0:\n",
    "                    pass\n",
    "                else:\n",
    "                    idx = np.random.randint(len(data_in_grid[y, x]), size = len(data_in_grid[y,x]))\n",
    "                    data_repres_up = np.append(data_repres_up, data_in_grid[y, x][idx, :], axis = 0)\n",
    "\n",
    "            elif y == 1:\n",
    "                if len(data_in_grid[y, x]) >= min_sample_threshold:\n",
    "                    idx = np.random.randint(len(data_in_grid[y, x]), size = 3)\n",
    "                    data_repres_down = np.append(data_repres_down, data_in_grid[y, x][idx, :], axis = 0)\n",
    "                elif len(data_in_grid[y, x]) == 0:\n",
    "                    pass\n",
    "                else:\n",
    "                    idx = np.random.randint(len(data_in_grid[y, x]), size = len(data_in_grid[y,x]))\n",
    "                    data_repres_up = np.append(data_repres_up, data_in_grid[y, x][idx, :], axis = 0)\n",
    "                    \n",
    "    up_grids_x = np.sort(data_repres_up, axis = 0)[:, 0] \n",
    "    up_grids_y = np.sort(data_repres_up, axis = 0)[:, 1]\n",
    "    down_grids_x = np.sort(data_repres_down, axis = 0)[:, 0] \n",
    "    down_grids_y = np.sort(data_repres_down, axis = 0)[:, 1]\n",
    "\n",
    "    ransac_up = RANSACRegressor(PolynomialRegression(degree=3),\n",
    "                             min_samples = 7,    \n",
    "                             max_trials = 10000,\n",
    "                             random_state=0)\n",
    "    ransac_up.fit(np.expand_dims(up_grids_x, axis=1), up_grids_y)\n",
    "    up_grids_y_pred = ransac_up.predict(np.expand_dims(up_grids_x, axis=1))\n",
    "    up_lane_coeffs= ransac_up.estimator_.get_params(deep = True)[\"coeffs\"]\n",
    "\n",
    "    ransac_down = RANSACRegressor(PolynomialRegression(degree=3), \n",
    "                             min_samples = 7,    \n",
    "                             max_trials = 10000,\n",
    "                             random_state=0)\n",
    "    ransac_down.fit(np.expand_dims(down_grids_x, axis=1), down_grids_y)\n",
    "    down_grids_y_pred = ransac_down.predict(np.expand_dims(down_grids_x, axis=1))\n",
    "    down_lane_coeffs = ransac_down.estimator_.get_params(deep = True)[\"coeffs\"]\n",
    "    \n",
    "    ego_lane_coeffs_pair = np.append(down_lane_coeffs, up_lane_coeffs, axis = 0)       \n",
    "    curr_error = cost(up_lane_coeffs, down_lane_coeffs)\n",
    "    \n",
    "    if curr_error < prev_error:\n",
    "        prev_error = curr_error \n",
    "        best_coeffs_pair = ego_lane_coeffs_pair\n",
    "\n",
    "    iteration += 1\n",
    "    end = time.time()\n",
    "    print(end - start)\n",
    "    print(iteration)\n",
    "\n",
    "print(\"time spent: {:.2f} sec\".format(time.time() - start)) \n",
    "print(best_coeffs_pair)\n",
    "print(prev_error)\n"
   ]
  },
  {
   "cell_type": "markdown",
   "id": "dad7996a",
   "metadata": {},
   "source": [
    "ㅡㅡㅡㅡㅡㅡㅡㅡㅡㅡㅡㅡㅡㅡㅡㅡㅡㅡㅡㅡㅡㅡㅡㅡㅡㅡㅡㅡㅡㅡㅡㅡ"
   ]
  },
  {
   "cell_type": "markdown",
   "id": "08451518",
   "metadata": {},
   "source": [
    "# cost function\n"
   ]
  },
  {
   "cell_type": "code",
   "execution_count": null,
   "id": "3746c5b6",
   "metadata": {},
   "outputs": [],
   "source": [
    "def cost(up_lane_coeffs, down_lane_coeffs):\n",
    "    \n",
    "    x_list = list(range(-40, 41, 1))\n",
    "    interval_truth = list(itertools.repeat(3, 81)) \n",
    "    interval_measured = [] \n",
    "\n",
    "    for x_test in x_list:\n",
    "        y_down = down_lane_coeffs[0]*x_test**3 + down_lane_coeffs[1]*x_test**2 + down_lane_coeffs[2]*x_test + down_lane_coeffs[3]\n",
    "        deriv_y_down = 3*down_lane_coeffs[0]*x_test**2 + 2*down_lane_coeffs[1]*x_test+down_lane_coeffs[2]\n",
    "\n",
    "        y_down_perp_line = lambda x: -1/deriv_y_down*(x-x_test) + y_down\n",
    "        y_up = lambda x: up_lane_coeffs[0]*x**3 + up_lane_coeffs[1]*x**2 + up_lane_coeffs[2]*x + up_lane_coeffs[3]\n",
    "\n",
    "        intersection_x = findIntersection(y_down_perp_line, y_up, x_test)[0]\n",
    "        intersection_y = y_down_perp_line(intersection_x)\n",
    "\n",
    "        dist = distance.euclidean([intersection_x, intersection_y], [x_test, y_down])\n",
    "        interval_measured.append(dist)\n",
    "    \n",
    "    cost = mean_squared_error(interval_truth, interval_measured)\n",
    "    return cost \n",
    "\n",
    "def findIntersection(fun1, fun2, x0):\n",
    "    return fsolve(lambda x: fun1(x) - fun2(x), x0)"
   ]
  }
 ],
 "metadata": {
  "kernelspec": {
   "display_name": "ml_env",
   "language": "python",
   "name": "ml_env"
  },
  "language_info": {
   "codemirror_mode": {
    "name": "ipython",
    "version": 3
   },
   "file_extension": ".py",
   "mimetype": "text/x-python",
   "name": "python",
   "nbconvert_exporter": "python",
   "pygments_lexer": "ipython3",
   "version": "3.7.12"
  }
 },
 "nbformat": 4,
 "nbformat_minor": 5
}
